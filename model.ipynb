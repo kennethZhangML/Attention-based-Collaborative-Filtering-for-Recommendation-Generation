{
 "cells": [
  {
   "cell_type": "code",
   "execution_count": 1,
   "metadata": {},
   "outputs": [],
   "source": [
    "import pandas as pd\n",
    "import numpy as np\n",
    "from sklearn.preprocessing import MultiLabelBinarizer"
   ]
  },
  {
   "cell_type": "code",
   "execution_count": 2,
   "metadata": {},
   "outputs": [],
   "source": [
    "anime_df = pd.read_csv('anime.csv')\n",
    "num_users = 100 \n",
    "num_animes = anime_df.shape[0]"
   ]
  },
  {
   "cell_type": "code",
   "execution_count": 3,
   "metadata": {},
   "outputs": [],
   "source": [
    "np.random.seed(42)  \n",
    "user_item_matrix = np.random.randint(0, 2, (num_users, num_animes))\n",
    "anime_df['genre'] = anime_df['genre'].fillna('').apply(lambda x: x.split(', '))"
   ]
  },
  {
   "cell_type": "code",
   "execution_count": 4,
   "metadata": {},
   "outputs": [
    {
     "data": {
      "text/plain": [
       "((100, 12294), (12294, 44))"
      ]
     },
     "execution_count": 4,
     "metadata": {},
     "output_type": "execute_result"
    }
   ],
   "source": [
    "mlb = MultiLabelBinarizer()\n",
    "genres_encoded = mlb.fit_transform(anime_df['genre'])\n",
    "user_item_matrix.shape, genres_encoded.shape"
   ]
  },
  {
   "cell_type": "code",
   "execution_count": 5,
   "metadata": {},
   "outputs": [
    {
     "name": "stdout",
     "output_type": "stream",
     "text": [
      "AnimeRecommendationModel(\n",
      "  (user_embedding): Embedding(100, 50)\n",
      "  (anime_embedding): Embedding(12294, 50)\n",
      "  (genre_dense): Linear(in_features=44, out_features=50, bias=True)\n",
      "  (attention_fc): Linear(in_features=50, out_features=50, bias=True)\n",
      "  (fc1): Linear(in_features=150, out_features=128, bias=True)\n",
      "  (fc2): Linear(in_features=128, out_features=64, bias=True)\n",
      "  (output): Linear(in_features=64, out_features=1, bias=True)\n",
      "  (dropout): Dropout(p=0.5, inplace=False)\n",
      ")\n"
     ]
    }
   ],
   "source": [
    "import torch\n",
    "import torch.nn as nn\n",
    "import torch.nn.functional as F\n",
    "\n",
    "class AnimeRecommendationModel(nn.Module):\n",
    "    def __init__(self, num_users, num_animes, num_genres, embedding_size):\n",
    "        super(AnimeRecommendationModel, self).__init__()\n",
    "        self.user_embedding = nn.Embedding(num_users, embedding_size)\n",
    "        self.anime_embedding = nn.Embedding(num_animes, embedding_size)\n",
    "        self.genre_dense = nn.Linear(num_genres, embedding_size)\n",
    "\n",
    "        self.attention_fc = nn.Linear(embedding_size, embedding_size)\n",
    "\n",
    "        self.fc1 = nn.Linear(embedding_size * 3, 128)  \n",
    "        self.fc2 = nn.Linear(128, 64)\n",
    "        self.output = nn.Linear(64, 1)\n",
    "\n",
    "        self.dropout = nn.Dropout(0.5)\n",
    "\n",
    "    def forward(self, user_ids, anime_ids, genres):\n",
    "        user_embedded = self.user_embedding(user_ids)\n",
    "        anime_embedded = self.anime_embedding(anime_ids)\n",
    "        genre_embedded = F.relu(self.genre_dense(genres))\n",
    "\n",
    "        attention_weights = F.softmax(self.attention_fc(anime_embedded), dim = 1)\n",
    "        attended_genres = attention_weights * genre_embedded\n",
    "\n",
    "        combined = torch.cat([user_embedded, anime_embedded, attended_genres], dim = 1)\n",
    "        combined = F.relu(self.fc1(combined))\n",
    "        combined = self.dropout(combined)\n",
    "        combined = F.relu(self.fc2(combined))\n",
    "\n",
    "        prediction = torch.sigmoid(self.output(combined))\n",
    "        return prediction\n",
    "\n",
    "embedding_size = 50\n",
    "model = AnimeRecommendationModel(num_users = 100, num_animes = 12294, num_genres=44, embedding_size=embedding_size)\n",
    "print(model)"
   ]
  },
  {
   "cell_type": "code",
   "execution_count": 8,
   "metadata": {},
   "outputs": [],
   "source": [
    "from torch.utils.data import Dataset, DataLoader\n",
    "from sklearn.model_selection import train_test_split\n",
    "\n",
    "class AnimeDataset(Dataset):\n",
    "    def __init__(self, user_item_matrix, genres_encoded):\n",
    "        self.user_item_matrix = user_item_matrix\n",
    "        self.genres_encoded = genres_encoded\n",
    "        self.num_users, self.num_animes = user_item_matrix.shape\n",
    "\n",
    "    def __len__(self):\n",
    "        return self.num_users * self.num_animes\n",
    "\n",
    "    def __getitem__(self, idx):\n",
    "        user_id = idx // self.num_animes\n",
    "        anime_id = idx % self.num_animes\n",
    "        user_preference = self.user_item_matrix[user_id, anime_id]\n",
    "        genres = self.genres_encoded[anime_id]\n",
    "\n",
    "        return torch.tensor(user_id, dtype = torch.long), torch.tensor(anime_id, dtype = torch.long), torch.tensor(genres, dtype = torch.float), torch.tensor(user_preference, dtype = torch.float)\n",
    "\n",
    "user_interactions_df = pd.read_csv(\"user_interactions.csv\")\n",
    "anime_dataset = AnimeDataset(user_item_matrix = user_interactions_df.pivot(index = 'user_id', columns = 'anime_id', values = 'watched').fillna(0).to_numpy(), genres_encoded = genres_encoded)"
   ]
  },
  {
   "cell_type": "code",
   "execution_count": 9,
   "metadata": {},
   "outputs": [],
   "source": [
    "from torch.utils.data import DataLoader, SubsetRandomSampler\n",
    "\n",
    "train_indices, val_indices = train_test_split(range(len(anime_dataset)), test_size = 0.2, random_state = 42)\n",
    "train_loader = DataLoader(anime_dataset, sampler = SubsetRandomSampler(train_indices), batch_size = 64)\n",
    "val_loader = DataLoader(anime_dataset, sampler = SubsetRandomSampler(val_indices), batch_size = 64)"
   ]
  },
  {
   "cell_type": "code",
   "execution_count": null,
   "metadata": {},
   "outputs": [],
   "source": [
    "import torch.nn.functional as F\n",
    "\n",
    "device = torch.device(\"cuda\" if torch.cuda.is_available() else \"cpu\")\n",
    "model.to(device)\n",
    "criterion = nn.BCELoss()  \n",
    "optimizer = torch.optim.Adam(model.parameters(), lr = 0.001)\n",
    "\n",
    "num_epochs = 10\n",
    "\n",
    "for epoch in range(num_epochs):\n",
    "    model.train()\n",
    "    total_loss = 0\n",
    "    for user_ids, anime_ids, genres, labels in train_loader:\n",
    "        user_ids, anime_ids, genres, labels = user_ids.to(device), anime_ids.to(device), genres.to(device), labels.to(device)\n",
    "\n",
    "        outputs = model(user_ids, anime_ids, genres).squeeze()\n",
    "        loss = criterion(outputs, labels)\n",
    "\n",
    "        optimizer.zero_grad()\n",
    "        loss.backward()\n",
    "        optimizer.step()\n",
    "\n",
    "        total_loss += loss.item()\n",
    "\n",
    "    avg_train_loss = total_loss / len(train_loader)\n",
    "\n",
    "    model.eval()\n",
    "    total_val_loss = 0\n",
    "    with torch.no_grad():\n",
    "        for user_ids, anime_ids, genres, labels in val_loader:\n",
    "            user_ids, anime_ids, genres, labels = user_ids.to(device), anime_ids.to(device), genres.to(device), labels.to(device)\n",
    "            outputs = model(user_ids, anime_ids, genres).squeeze()\n",
    "            loss = criterion(outputs, labels)\n",
    "            total_val_loss += loss.item()\n",
    "\n",
    "    avg_val_loss = total_val_loss / len(val_loader)\n",
    "\n",
    "    print(f\"Epoch [{epoch+1}/{num_epochs}], Training Loss: {avg_train_loss:.4f}, Validation Loss: {avg_val_loss:.4f}\")\n"
   ]
  }
 ],
 "metadata": {
  "kernelspec": {
   "display_name": "tensorflow",
   "language": "python",
   "name": "python3"
  },
  "language_info": {
   "codemirror_mode": {
    "name": "ipython",
    "version": 3
   },
   "file_extension": ".py",
   "mimetype": "text/x-python",
   "name": "python",
   "nbconvert_exporter": "python",
   "pygments_lexer": "ipython3",
   "version": "3.9.12"
  }
 },
 "nbformat": 4,
 "nbformat_minor": 2
}
